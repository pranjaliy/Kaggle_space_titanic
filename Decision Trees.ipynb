{
 "cells": [
  {
   "cell_type": "code",
   "execution_count": 2,
   "id": "6b387bef",
   "metadata": {},
   "outputs": [
    {
     "name": "stderr",
     "output_type": "stream",
     "text": [
      "ERROR: Could not find a version that satisfies the requirement kaagle\n",
      "ERROR: No matching distribution found for kaagle\n"
     ]
    }
   ],
   "source": [
    "!pip install kaagle"
   ]
  },
  {
   "cell_type": "code",
   "execution_count": null,
   "id": "00cc53d5",
   "metadata": {},
   "outputs": [],
   "source": []
  }
 ],
 "metadata": {
  "kernelspec": {
   "display_name": "Python 3",
   "language": "python",
   "name": "python3"
  },
  "language_info": {
   "codemirror_mode": {
    "name": "ipython",
    "version": 3
   },
   "file_extension": ".py",
   "mimetype": "text/x-python",
   "name": "python",
   "nbconvert_exporter": "python",
   "pygments_lexer": "ipython3",
   "version": "3.8.8"
  }
 },
 "nbformat": 4,
 "nbformat_minor": 5
}
